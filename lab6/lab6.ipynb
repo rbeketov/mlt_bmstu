{
 "cells": [
  {
   "cell_type": "markdown",
   "id": "b3874a28-9d90-4ee2-ba5d-b576fd33036d",
   "metadata": {},
   "source": [
    "##  Бекетов Роман ИУ5-62Б Лаб.6"
   ]
  },
  {
   "cell_type": "code",
   "execution_count": null,
   "id": "f60e1cea-9604-4d10-9f90-c178dbb384dd",
   "metadata": {},
   "outputs": [],
   "source": [
    "import streamlit as st\n",
    "import pandas as pd\n",
    "import numpy as np\n",
    "from sklearn.ensemble import RandomForestClassifier\n",
    "from sklearn.model_selection import train_test_split\n",
    "from sklearn.metrics import classification_report, confusion_matrix\n",
    "from sklearn.datasets import load_digits\n",
    "from sklearn.preprocessing import StandardScaler\n",
    "import matplotlib.pyplot as plt\n",
    "import seaborn as sns\n",
    "\n",
    "@st.cache_data\n",
    "def load_data():\n",
    "    digits = load_digits()\n",
    "    data = pd.DataFrame(data=digits['data'], columns=digits['feature_names'])\n",
    "    data['target'] = digits['target']\n",
    "    return data\n",
    "\n",
    "@st.cache_resource\n",
    "def preprocess_data(data_in):\n",
    "    '''\n",
    "    Масштабирование признаков, функция возвращает X и y для обучения\n",
    "    '''\n",
    "    data_out = data_in.copy()\n",
    "    # Масштабирование признаков\n",
    "    scaler = StandardScaler()\n",
    "    data_out[data_in.columns[:-1]] = scaler.fit_transform(data_out[data_in.columns[:-1]])\n",
    "    return data_out, data_out['target']\n",
    "\n",
    "# Загрузка и предварительная обработка данных\n",
    "data = load_data()\n",
    "data_X, data_y = preprocess_data(data)\n",
    "\n",
    "# Разделение данных на обучающую и тестовую выборки\n",
    "X_train, X_test, y_train, y_test = train_test_split(data_X, data_y, test_size=0.2, random_state=42)\n",
    "\n",
    "# Интерфейс пользователя\n",
    "st.sidebar.header('Random Forest Classifier')\n",
    "n_estimators_slider = st.sidebar.slider('Количество деревьев:', min_value=10, max_value=200, value=100, step=10)\n",
    "max_depth_slider = st.sidebar.slider('Глубина дерева:', min_value=1, max_value=20, value=10, step=1)\n",
    "\n",
    "# Обучение модели\n",
    "model = RandomForestClassifier(n_estimators=n_estimators_slider, max_depth=max_depth_slider, random_state=42)\n",
    "model.fit(X_train, y_train)\n",
    "\n",
    "# Предсказание на тестовой выборке\n",
    "y_pred = model.predict(X_test)\n",
    "\n",
    "# Оценка качества модели\n",
    "st.subheader('Оценка качества модели')\n",
    "st.write('Отчет о классификации:')\n",
    "st.write(classification_report(y_test, y_pred))\n",
    "\n",
    "# Визуализация матрицы ошибок\n",
    "st.subheader('Матрица ошибок')\n",
    "conf_mat = confusion_matrix(y_test, y_pred)\n",
    "fig, ax = plt.subplots(figsize=(8, 6))\n",
    "sns.heatmap(conf_mat, annot=True, fmt='d', cmap='Blues', ax=ax)\n",
    "st.pyplot(fig)"
   ]
  }
 ],
 "metadata": {
  "kernelspec": {
   "display_name": "Python 3 (ipykernel)",
   "language": "python",
   "name": "python3"
  },
  "language_info": {
   "codemirror_mode": {
    "name": "ipython",
    "version": 3
   },
   "file_extension": ".py",
   "mimetype": "text/x-python",
   "name": "python",
   "nbconvert_exporter": "python",
   "pygments_lexer": "ipython3",
   "version": "3.12.2"
  }
 },
 "nbformat": 4,
 "nbformat_minor": 5
}
